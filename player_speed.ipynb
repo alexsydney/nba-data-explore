{
 "cells": [
  {
   "cell_type": "code",
   "execution_count": 62,
   "metadata": {
    "collapsed": true
   },
   "outputs": [],
   "source": [
    "import requests\n",
    "from itertools import izip\n",
    "from pprint import pprint\n",
    "from pandas import DataFrame"
   ]
  },
  {
   "cell_type": "code",
   "execution_count": 63,
   "metadata": {
    "collapsed": true
   },
   "outputs": [],
   "source": [
    "resp = requests.get('http://stats.nba.com/js/data/sportvu/2014/speedData.json')"
   ]
  },
  {
   "cell_type": "code",
   "execution_count": 64,
   "metadata": {
    "collapsed": false
   },
   "outputs": [],
   "source": [
    "data = resp.json()\n",
    "row_headers = data['resultSets'][0]['headers']\n",
    "row_headers = [rh.lower() for rh in row_headers]\n",
    "player_data = [dict(izip(row_headers, player_row)) for player_row in data['resultSets'][0]['rowSet']]\n",
    "\n",
    "# only select players with over 20 mpg\n",
    "player_data = [p for p in player_data if p['min'] > 20]"
   ]
  },
  {
   "cell_type": "code",
   "execution_count": 65,
   "metadata": {
    "collapsed": false
   },
   "outputs": [
    {
     "name": "stdout",
     "output_type": "stream",
     "text": [
      "[u'player_id',\n",
      " u'player',\n",
      " u'first_name',\n",
      " u'last_name',\n",
      " u'team_abbreviation',\n",
      " u'gp',\n",
      " u'min',\n",
      " u'dist',\n",
      " u'av_spd',\n",
      " u'dist_pg',\n",
      " u'dist_48',\n",
      " u'dist_off',\n",
      " u'dist_def',\n",
      " u'av_spd_off',\n",
      " u'av_spd_def']\n"
     ]
    }
   ],
   "source": [
    "pprint(row_headers)"
   ]
  },
  {
   "cell_type": "code",
   "execution_count": 66,
   "metadata": {
    "collapsed": false
   },
   "outputs": [
    {
     "data": {
      "text/plain": [
       "112.1430420711974"
      ]
     },
     "execution_count": 66,
     "metadata": {},
     "output_type": "execute_result"
    }
   ],
   "source": [
    "df = DataFrame(player_data,columns=row_headers)\n",
    "df.columns\n",
    "\n",
    "# mean distance traveled by player over the course of the season, in miles\n",
    "df['dist'].mean()"
   ]
  },
  {
   "cell_type": "code",
   "execution_count": 67,
   "metadata": {
    "collapsed": false
   },
   "outputs": [
    {
     "data": {
      "text/html": [
       "<div>\n",
       "<table border=\"1\" class=\"dataframe\">\n",
       "  <thead>\n",
       "    <tr style=\"text-align: right;\">\n",
       "      <th></th>\n",
       "      <th>player</th>\n",
       "      <th>av_spd</th>\n",
       "    </tr>\n",
       "  </thead>\n",
       "  <tbody>\n",
       "    <tr>\n",
       "      <th>303</th>\n",
       "      <td>Chris Johnson</td>\n",
       "      <td>4.6</td>\n",
       "    </tr>\n",
       "    <tr>\n",
       "      <th>111</th>\n",
       "      <td>Kyle Singler</td>\n",
       "      <td>4.6</td>\n",
       "    </tr>\n",
       "    <tr>\n",
       "      <th>72</th>\n",
       "      <td>Tony Parker</td>\n",
       "      <td>4.6</td>\n",
       "    </tr>\n",
       "    <tr>\n",
       "      <th>197</th>\n",
       "      <td>Kyle Singler</td>\n",
       "      <td>4.6</td>\n",
       "    </tr>\n",
       "    <tr>\n",
       "      <th>175</th>\n",
       "      <td>Ray McCallum</td>\n",
       "      <td>4.6</td>\n",
       "    </tr>\n",
       "    <tr>\n",
       "      <th>123</th>\n",
       "      <td>Patrick Beverley</td>\n",
       "      <td>4.5</td>\n",
       "    </tr>\n",
       "    <tr>\n",
       "      <th>144</th>\n",
       "      <td>Kirk Hinrich</td>\n",
       "      <td>4.5</td>\n",
       "    </tr>\n",
       "    <tr>\n",
       "      <th>25</th>\n",
       "      <td>Harrison Barnes</td>\n",
       "      <td>4.5</td>\n",
       "    </tr>\n",
       "    <tr>\n",
       "      <th>24</th>\n",
       "      <td>Danny Green</td>\n",
       "      <td>4.5</td>\n",
       "    </tr>\n",
       "    <tr>\n",
       "      <th>269</th>\n",
       "      <td>Ish Smith</td>\n",
       "      <td>4.5</td>\n",
       "    </tr>\n",
       "  </tbody>\n",
       "</table>\n",
       "</div>"
      ],
      "text/plain": [
       "               player  av_spd\n",
       "303     Chris Johnson     4.6\n",
       "111      Kyle Singler     4.6\n",
       "72        Tony Parker     4.6\n",
       "197      Kyle Singler     4.6\n",
       "175      Ray McCallum     4.6\n",
       "123  Patrick Beverley     4.5\n",
       "144      Kirk Hinrich     4.5\n",
       "25    Harrison Barnes     4.5\n",
       "24        Danny Green     4.5\n",
       "269         Ish Smith     4.5"
      ]
     },
     "execution_count": 67,
     "metadata": {},
     "output_type": "execute_result"
    }
   ],
   "source": [
    "df[['player', 'av_spd']].sort('av_spd', ascending=False).head(10)"
   ]
  },
  {
   "cell_type": "code",
   "execution_count": null,
   "metadata": {
    "collapsed": true
   },
   "outputs": [],
   "source": []
  }
 ],
 "metadata": {
  "kernelspec": {
   "display_name": "Python 2",
   "language": "python",
   "name": "python2"
  },
  "language_info": {
   "codemirror_mode": {
    "name": "ipython",
    "version": 2
   },
   "file_extension": ".py",
   "mimetype": "text/x-python",
   "name": "python",
   "nbconvert_exporter": "python",
   "pygments_lexer": "ipython2",
   "version": "2.7.9"
  }
 },
 "nbformat": 4,
 "nbformat_minor": 0
}
