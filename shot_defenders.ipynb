{
 "cells": [
  {
   "cell_type": "code",
   "execution_count": 500,
   "metadata": {
    "collapsed": true
   },
   "outputs": [],
   "source": [
    "import requests\n",
    "from pprint import pprint\n",
    "from itertools import izip\n",
    "from pandas import DataFrame\n",
    "from collections import defaultdict"
   ]
  },
  {
   "cell_type": "code",
   "execution_count": 501,
   "metadata": {
    "collapsed": false
   },
   "outputs": [],
   "source": [
    "url = 'http://stats.nba.com/stats/playerdashptshotlog?'+ \\\n",
    "    'DateFrom=&DateTo=&GameSegment=&LastNGames=0&LeagueID=00&' + \\\n",
    "    'Location=&Month=0&OpponentTeamID=0&Outcome=&Period=0&' + \\\n",
    "    'PlayerID={player_id}&Season=2014-15&SeasonSegment=&' + \\\n",
    "    'SeasonType=Regular+Season&TeamID=0&VsConference=&VsDivision='\n",
    "\n",
    "# Stephen Curry\n",
    "PLAYER_ID = 201939\n",
    "\n",
    "# James Harden\n",
    "PLAYER_ID = 201935\n",
    "\n",
    "resp = requests.get(url.format(player_id=PLAYER_ID))\n",
    "data = resp.json()"
   ]
  },
  {
   "cell_type": "code",
   "execution_count": 502,
   "metadata": {
    "collapsed": false
   },
   "outputs": [
    {
     "name": "stdout",
     "output_type": "stream",
     "text": [
      "Total FGA:  1443\n"
     ]
    }
   ],
   "source": [
    "shot_data = data['resultSets'][0]['rowSet']\n",
    "headers = [h.lower() for h in data['resultSets'][0]['headers']]\n",
    "shots = [dict(izip(headers, s)) for s in shot_data]\n",
    "print \"Total FGA: \", len(shots)\n",
    "makes_misses = defaultdict(lambda: dict(made=0, missed=0, total=0, close_def_dist=0.0))\n",
    "\n",
    "# fill out dictionary\n",
    "for shot in shots:\n",
    "    makes_misses[shot['closest_defender']][shot['shot_result']] += 1\n",
    "    makes_misses[shot['closest_defender']]['close_def_dist'] += shot['close_def_dist']\n",
    "    \n",
    "# reduce to standard dictionary type and compute totals\n",
    "makes_misses = dict(izip(makes_misses.keys(), map(dict, makes_misses.values())))\n",
    "for s in makes_misses.itervalues():\n",
    "    s['total'] = s['made'] + s['missed']\n",
    "    s['close_def_dist_avg'] = s['close_def_dist']/s['total']"
   ]
  },
  {
   "cell_type": "code",
   "execution_count": 503,
   "metadata": {
    "collapsed": false
   },
   "outputs": [
    {
     "name": "stdout",
     "output_type": "stream",
     "text": [
      "[u'game_id', u'matchup', u'location', u'w', u'final_margin', u'shot_number', u'period', u'game_clock', u'shot_clock', u'dribbles', u'touch_time', u'shot_dist', u'pts_type', u'shot_result', u'closest_defender', u'closest_defender_player_id', u'close_def_dist', u'fgm', u'pts']\n",
      "      game_id                     matchup location  w  final_margin  \\\n",
      "0  0021401219  APR 15, 2015 - HOU vs. UTA        H  W            26   \n",
      "1  0021401219  APR 15, 2015 - HOU vs. UTA        H  W            26   \n",
      "2  0021401219  APR 15, 2015 - HOU vs. UTA        H  W            26   \n",
      "\n",
      "   shot_number  period game_clock  shot_clock  dribbles  touch_time  \\\n",
      "0            1       1      11:00        19.5         4         3.8   \n",
      "1            2       1       4:41        15.0         6         8.0   \n",
      "2            3       1       1:41        17.0         1         1.5   \n",
      "\n",
      "   shot_dist  pts_type shot_result closest_defender  \\\n",
      "0        8.2         2      missed      Exum, Dante   \n",
      "1        3.2         2        made    Evans, Jeremy   \n",
      "2       26.6         3      missed  Millsap, Elijah   \n",
      "\n",
      "   closest_defender_player_id  close_def_dist  fgm  pts  \n",
      "0                      203957             4.3    0    0  \n",
      "1                      202379             2.2    1    2  \n",
      "2                      202407             3.6    0    0  \n"
     ]
    }
   ],
   "source": [
    "print headers\n",
    "df = DataFrame(shots, columns=headers)\n",
    "print df.head(3)\n",
    "shot_df = DataFrame(makes_misses)\n",
    "#print shot_df.head()"
   ]
  },
  {
   "cell_type": "code",
   "execution_count": 504,
   "metadata": {
    "collapsed": false,
    "scrolled": true
   },
   "outputs": [
    {
     "name": "stdout",
     "output_type": "stream",
     "text": [
      "                    close_def_dist  close_def_dist_avg  made  missed  total\n",
      "Acy, Quincy                    2.6            2.600000     0       1      1\n",
      "Afflalo, Arron                47.3            2.956250     8       8     16\n",
      "Aldrich, Cole                  4.4            4.400000     1       0      1\n",
      "Aldridge, LaMarcus            15.5            5.166667     1       2      3\n",
      "Allen, Tony                   51.1            4.645455     4       7     11\n"
     ]
    },
    {
     "data": {
      "text/html": [
       "<div>\n",
       "<table border=\"1\" class=\"dataframe\">\n",
       "  <thead>\n",
       "    <tr style=\"text-align: right;\">\n",
       "      <th></th>\n",
       "      <th>close_def_dist</th>\n",
       "      <th>close_def_dist_avg</th>\n",
       "      <th>made</th>\n",
       "      <th>missed</th>\n",
       "      <th>total</th>\n",
       "      <th>fg_pct</th>\n",
       "    </tr>\n",
       "  </thead>\n",
       "  <tbody>\n",
       "    <tr>\n",
       "      <th>McLemore, Ben</th>\n",
       "      <td>145.2</td>\n",
       "      <td>3.630000</td>\n",
       "      <td>15</td>\n",
       "      <td>25</td>\n",
       "      <td>40</td>\n",
       "      <td>0.375000</td>\n",
       "    </tr>\n",
       "    <tr>\n",
       "      <th>Tucker, PJ</th>\n",
       "      <td>125.5</td>\n",
       "      <td>3.691176</td>\n",
       "      <td>12</td>\n",
       "      <td>22</td>\n",
       "      <td>34</td>\n",
       "      <td>0.352941</td>\n",
       "    </tr>\n",
       "    <tr>\n",
       "      <th>Thompson, Klay</th>\n",
       "      <td>108.9</td>\n",
       "      <td>3.630000</td>\n",
       "      <td>11</td>\n",
       "      <td>19</td>\n",
       "      <td>30</td>\n",
       "      <td>0.366667</td>\n",
       "    </tr>\n",
       "    <tr>\n",
       "      <th>Redick, JJ</th>\n",
       "      <td>113.7</td>\n",
       "      <td>3.920690</td>\n",
       "      <td>9</td>\n",
       "      <td>20</td>\n",
       "      <td>29</td>\n",
       "      <td>0.310345</td>\n",
       "    </tr>\n",
       "    <tr>\n",
       "      <th>Green, Danny</th>\n",
       "      <td>73.2</td>\n",
       "      <td>3.182609</td>\n",
       "      <td>9</td>\n",
       "      <td>14</td>\n",
       "      <td>23</td>\n",
       "      <td>0.391304</td>\n",
       "    </tr>\n",
       "    <tr>\n",
       "      <th>Wiggins, Andrew</th>\n",
       "      <td>88.6</td>\n",
       "      <td>4.027273</td>\n",
       "      <td>10</td>\n",
       "      <td>12</td>\n",
       "      <td>22</td>\n",
       "      <td>0.454545</td>\n",
       "    </tr>\n",
       "    <tr>\n",
       "      <th>Pondexter, Quincy</th>\n",
       "      <td>75.1</td>\n",
       "      <td>4.172222</td>\n",
       "      <td>6</td>\n",
       "      <td>12</td>\n",
       "      <td>18</td>\n",
       "      <td>0.333333</td>\n",
       "    </tr>\n",
       "    <tr>\n",
       "      <th>Butler, Jimmy</th>\n",
       "      <td>63.1</td>\n",
       "      <td>3.505556</td>\n",
       "      <td>8</td>\n",
       "      <td>10</td>\n",
       "      <td>18</td>\n",
       "      <td>0.444444</td>\n",
       "    </tr>\n",
       "    <tr>\n",
       "      <th>Matthews, Wesley</th>\n",
       "      <td>62.4</td>\n",
       "      <td>3.466667</td>\n",
       "      <td>12</td>\n",
       "      <td>6</td>\n",
       "      <td>18</td>\n",
       "      <td>0.666667</td>\n",
       "    </tr>\n",
       "    <tr>\n",
       "      <th>Johnson, Wesley</th>\n",
       "      <td>56.9</td>\n",
       "      <td>3.556250</td>\n",
       "      <td>9</td>\n",
       "      <td>7</td>\n",
       "      <td>16</td>\n",
       "      <td>0.562500</td>\n",
       "    </tr>\n",
       "  </tbody>\n",
       "</table>\n",
       "</div>"
      ],
      "text/plain": [
       "                   close_def_dist  close_def_dist_avg  made  missed  total  \\\n",
       "McLemore, Ben               145.2            3.630000    15      25     40   \n",
       "Tucker, PJ                  125.5            3.691176    12      22     34   \n",
       "Thompson, Klay              108.9            3.630000    11      19     30   \n",
       "Redick, JJ                  113.7            3.920690     9      20     29   \n",
       "Green, Danny                 73.2            3.182609     9      14     23   \n",
       "Wiggins, Andrew              88.6            4.027273    10      12     22   \n",
       "Pondexter, Quincy            75.1            4.172222     6      12     18   \n",
       "Butler, Jimmy                63.1            3.505556     8      10     18   \n",
       "Matthews, Wesley             62.4            3.466667    12       6     18   \n",
       "Johnson, Wesley              56.9            3.556250     9       7     16   \n",
       "\n",
       "                     fg_pct  \n",
       "McLemore, Ben      0.375000  \n",
       "Tucker, PJ         0.352941  \n",
       "Thompson, Klay     0.366667  \n",
       "Redick, JJ         0.310345  \n",
       "Green, Danny       0.391304  \n",
       "Wiggins, Andrew    0.454545  \n",
       "Pondexter, Quincy  0.333333  \n",
       "Butler, Jimmy      0.444444  \n",
       "Matthews, Wesley   0.666667  \n",
       "Johnson, Wesley    0.562500  "
      ]
     },
     "execution_count": 504,
     "metadata": {},
     "output_type": "execute_result"
    }
   ],
   "source": [
    "shot_df_t = shot_df.T\n",
    "print shot_df_t.head()\n",
    "shot_df_t['fg_pct'] = shot_df_t['made'].astype('float') / shot_df_t['total'].astype('float')\n",
    "shot_df_t_sorted = shot_df_t.sort('fg_pct', ascending=False)\n",
    "shot_df_t_sorted[shot_df_t_sorted['total'] > 10].sort('total', ascending=False).head(10)"
   ]
  },
  {
   "cell_type": "code",
   "execution_count": 505,
   "metadata": {
    "collapsed": false
   },
   "outputs": [],
   "source": [
    "shot_defender = df[['closest_defender', 'shot_result']]\n",
    "sd = shot_defender.groupby(['shot_result', 'closest_defender'])\n",
    "#for k, v in sd:\n",
    "#    print k, v"
   ]
  },
  {
   "cell_type": "code",
   "execution_count": null,
   "metadata": {
    "collapsed": false
   },
   "outputs": [],
   "source": []
  }
 ],
 "metadata": {
  "kernelspec": {
   "display_name": "Python 2",
   "language": "python",
   "name": "python2"
  },
  "language_info": {
   "codemirror_mode": {
    "name": "ipython",
    "version": 2
   },
   "file_extension": ".py",
   "mimetype": "text/x-python",
   "name": "python",
   "nbconvert_exporter": "python",
   "pygments_lexer": "ipython2",
   "version": "2.7.9"
  }
 },
 "nbformat": 4,
 "nbformat_minor": 0
}
